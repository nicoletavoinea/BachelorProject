{
  "nbformat": 4,
  "nbformat_minor": 0,
  "metadata": {
    "colab": {
      "provenance": []
    },
    "kernelspec": {
      "name": "python3",
      "display_name": "Python 3"
    },
    "language_info": {
      "name": "python"
    }
  },
  "cells": [
    {
      "cell_type": "markdown",
      "source": [
        "# **Bachelor's Project - CAN Attacks Detection**"
      ],
      "metadata": {
        "id": "4EHqvJiPenpx"
      }
    },
    {
      "cell_type": "markdown",
      "source": [
        "## Data Cleaning"
      ],
      "metadata": {
        "id": "rDdzpwoPewXU"
      }
    },
    {
      "cell_type": "markdown",
      "source": [
        "![image.png](data:image/png;base64,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)"
      ],
      "metadata": {
        "id": "zqWXoBrYnYGa"
      }
    },
    {
      "cell_type": "markdown",
      "source": [
        "Handling labels. Removed lines with data that is not useful."
      ],
      "metadata": {
        "id": "dedPw1m2cjp1"
      }
    },
    {
      "cell_type": "code",
      "source": [
        "with open('output.txt') as f:\n",
        "    output = f.read()\n",
        "output=output.lower()\n",
        "output=output.splitlines()\n",
        "labels=[]\n",
        "for line in output:\n",
        "  if \"not\" in line:\n",
        "    labels.append('not intrusion')\n",
        "  else:\n",
        "    labels.append('intrusion')\n",
        "\n",
        "labels[1000:1010]\n",
        "print(len(labels))"
      ],
      "metadata": {
        "colab": {
          "base_uri": "https://localhost:8080/"
        },
        "id": "uBWHVKGKe4ar",
        "outputId": "91cabe23-868a-48b9-ba94-46fccd647611"
      },
      "execution_count": 10,
      "outputs": [
        {
          "output_type": "stream",
          "name": "stdout",
          "text": [
            "21852\n"
          ]
        }
      ]
    },
    {
      "cell_type": "markdown",
      "source": [
        "Cleaned data. Removed description of data."
      ],
      "metadata": {
        "id": "S1Mq60focuuK"
      }
    },
    {
      "cell_type": "code",
      "source": [
        "with open('trace.asc') as f:\n",
        "    trace = f.read()\n",
        "trace=trace.lower()\n",
        "trace=trace.splitlines()\n",
        "trace=trace[5:]\n",
        "data=[]\n",
        "for line in trace:\n",
        "  line=line.replace(\"length\",\"\")\n",
        "  line=line.replace(\"=\",\"\")\n",
        "  line=line.replace(\"bitcount\",\"\")\n",
        "  line=line.replace(\"id\",\"\")\n",
        "  if \"error\" not in line:\n",
        "    data.append(line)\n",
        "\n",
        "data[1000:1010]\n",
        "print(len(data))"
      ],
      "metadata": {
        "colab": {
          "base_uri": "https://localhost:8080/"
        },
        "id": "uEhhtjOwkDR5",
        "outputId": "b3a5473b-2ebf-4e17-eeef-fe126cf29df6"
      },
      "execution_count": 11,
      "outputs": [
        {
          "output_type": "stream",
          "name": "stdout",
          "text": [
            "21852\n"
          ]
        }
      ]
    },
    {
      "cell_type": "markdown",
      "source": [
        "Splitting lines in 'words'. Adding extra '00' bytes as padding for messages that have length smaller than 8.\n",
        "For the final data structure we'll have the following format:\n",
        "1. Time  \n",
        "2. Channel   \n",
        "3. MessageID(hex)   \n",
        "4. Type (Rx/Tx)  \n",
        "5. ???   \n",
        "6. LengthOfMessage   \n",
        "7. Byte1   \n",
        "8. Byte2   \n",
        "9. Byte3   \n",
        "10. Byte4   \n",
        "11. Byte5   \n",
        "12. Byte6   \n",
        "13. Byte7   \n",
        "14. Byte8\n",
        "15. Length\n",
        "16. Bitcound\n",
        "17. MessageID(decimal)"
      ],
      "metadata": {
        "id": "bF9AsCzYcMUp"
      }
    },
    {
      "cell_type": "code",
      "source": [
        "temp=[]\n",
        "for line in data:\n",
        "  line=line.split()\n",
        "  message_length=int(line[5])\n",
        "  if(message_length<8):\n",
        "    for i in range(8-message_length):\n",
        "      line.insert(6+message_length+i,'00')\n",
        "  temp.append(line)\n",
        "data=temp\n",
        "\n",
        "print(data[:5])"
      ],
      "metadata": {
        "colab": {
          "base_uri": "https://localhost:8080/"
        },
        "id": "KZhWCxN-aRf0",
        "outputId": "a783acbe-dfd8-4e83-eafa-5f619d053de1"
      },
      "execution_count": 12,
      "outputs": [
        {
          "output_type": "stream",
          "name": "stdout",
          "text": [
            "[['0.000766', '1', '284', 'tx', 'd', '8', '00', '00', '00', '00', '00', '00', '00', '00', '246000', '126', '644'], ['0.000774', '1', '285', 'tx', 'd', '8', '00', '00', '00', '00', '00', '00', '00', '00', '248000', '127', '645'], ['0.002899', '1', '161', 'tx', 'd', '5', '32', '22', '5d', '00', '10', '00', '00', '00', '176000', '91', '353'], ['0.003908', '1', '1f9', 'tx', 'd', '6', '20', '1e', '1c', '7e', 'f8', 'ff', '00', '00', '194000', '100', '505'], ['0.003915', '1', '181', 'tx', 'd', '8', '1c', '7e', '32', '10', '32', '20', '42', '4e', '228000', '117', '385']]\n"
          ]
        }
      ]
    },
    {
      "cell_type": "markdown",
      "source": [
        "##Creating Dataset"
      ],
      "metadata": {
        "id": "JFqr2MqleGmu"
      }
    },
    {
      "cell_type": "code",
      "source": [
        "import numpy as np\n",
        "import pandas as pd"
      ],
      "metadata": {
        "id": "wjHm1PkgoWrj"
      },
      "execution_count": 13,
      "outputs": []
    },
    {
      "cell_type": "code",
      "source": [
        "data = pd.DataFrame(data, columns=['Time', 'Channel','ID_Hex','Type','???','ByteNo','b1','b2','b3','b4','b5','b6','b7','b8','Length','Bitcount','ID'])\n",
        "data=data.drop('Channel',axis=1)\n",
        "data=data.drop('???',axis=1)\n",
        "data=data.drop('ID_Hex',axis=1)\n",
        "data=data.drop('Type',axis=1)\n",
        "data=data.drop('Bitcount',axis=1)\n",
        "data[['b1','b2','b3','b4','b5','b6','b7','b8']]=data[['b1','b2','b3','b4','b5','b6','b7','b8']].applymap(lambda x: int(x, 16))\n",
        "data[['ByteNo','Length','ID']]=data[['ByteNo','Length','ID']].applymap(lambda x:int(x,10))\n",
        "data['Time']=data['Time'].astype(float)"
      ],
      "metadata": {
        "id": "2rn1J0GFsM7k"
      },
      "execution_count": 14,
      "outputs": []
    },
    {
      "cell_type": "code",
      "source": [
        "data"
      ],
      "metadata": {
        "colab": {
          "base_uri": "https://localhost:8080/",
          "height": 424
        },
        "id": "lm_73Ytyy-Fk",
        "outputId": "3038ccc5-1f2c-415c-8605-80306a38417f"
      },
      "execution_count": 15,
      "outputs": [
        {
          "output_type": "execute_result",
          "data": {
            "text/plain": [
              "            Time  ByteNo   b1   b2  b3   b4   b5   b6  b7  b8  Length    ID\n",
              "0       0.000766       8    0    0   0    0    0    0   0   0  246000   644\n",
              "1       0.000774       8    0    0   0    0    0    0   0   0  248000   645\n",
              "2       0.002899       5   50   34  93    0   16    0   0   0  176000   353\n",
              "3       0.003908       6   32   30  28  126  248  255   0   0  194000   505\n",
              "4       0.003915       8   28  126  50   16   50   32  66  78  228000   385\n",
              "...          ...     ...  ...  ...  ..  ...  ...  ...  ..  ..     ...   ...\n",
              "21847  31.682439       8   38  144  78   31   67   32  64  78  228000   385\n",
              "21848  31.682453       7    0    0   0    0    0    0   0   0  224000  1297\n",
              "21849  31.682459       3   76    0   0    0    0    0   0   0  144000  1501\n",
              "21850  31.682463       1  112    0   0    0    0    0   0   0  108000  1628\n",
              "21851  31.686426       8  143  255   1    0    0    0   0   0  238000   421\n",
              "\n",
              "[21852 rows x 12 columns]"
            ],
            "text/html": [
              "\n",
              "  <div id=\"df-cc7154f8-7f8e-4df3-bf76-c300a8353956\" class=\"colab-df-container\">\n",
              "    <div>\n",
              "<style scoped>\n",
              "    .dataframe tbody tr th:only-of-type {\n",
              "        vertical-align: middle;\n",
              "    }\n",
              "\n",
              "    .dataframe tbody tr th {\n",
              "        vertical-align: top;\n",
              "    }\n",
              "\n",
              "    .dataframe thead th {\n",
              "        text-align: right;\n",
              "    }\n",
              "</style>\n",
              "<table border=\"1\" class=\"dataframe\">\n",
              "  <thead>\n",
              "    <tr style=\"text-align: right;\">\n",
              "      <th></th>\n",
              "      <th>Time</th>\n",
              "      <th>ByteNo</th>\n",
              "      <th>b1</th>\n",
              "      <th>b2</th>\n",
              "      <th>b3</th>\n",
              "      <th>b4</th>\n",
              "      <th>b5</th>\n",
              "      <th>b6</th>\n",
              "      <th>b7</th>\n",
              "      <th>b8</th>\n",
              "      <th>Length</th>\n",
              "      <th>ID</th>\n",
              "    </tr>\n",
              "  </thead>\n",
              "  <tbody>\n",
              "    <tr>\n",
              "      <th>0</th>\n",
              "      <td>0.000766</td>\n",
              "      <td>8</td>\n",
              "      <td>0</td>\n",
              "      <td>0</td>\n",
              "      <td>0</td>\n",
              "      <td>0</td>\n",
              "      <td>0</td>\n",
              "      <td>0</td>\n",
              "      <td>0</td>\n",
              "      <td>0</td>\n",
              "      <td>246000</td>\n",
              "      <td>644</td>\n",
              "    </tr>\n",
              "    <tr>\n",
              "      <th>1</th>\n",
              "      <td>0.000774</td>\n",
              "      <td>8</td>\n",
              "      <td>0</td>\n",
              "      <td>0</td>\n",
              "      <td>0</td>\n",
              "      <td>0</td>\n",
              "      <td>0</td>\n",
              "      <td>0</td>\n",
              "      <td>0</td>\n",
              "      <td>0</td>\n",
              "      <td>248000</td>\n",
              "      <td>645</td>\n",
              "    </tr>\n",
              "    <tr>\n",
              "      <th>2</th>\n",
              "      <td>0.002899</td>\n",
              "      <td>5</td>\n",
              "      <td>50</td>\n",
              "      <td>34</td>\n",
              "      <td>93</td>\n",
              "      <td>0</td>\n",
              "      <td>16</td>\n",
              "      <td>0</td>\n",
              "      <td>0</td>\n",
              "      <td>0</td>\n",
              "      <td>176000</td>\n",
              "      <td>353</td>\n",
              "    </tr>\n",
              "    <tr>\n",
              "      <th>3</th>\n",
              "      <td>0.003908</td>\n",
              "      <td>6</td>\n",
              "      <td>32</td>\n",
              "      <td>30</td>\n",
              "      <td>28</td>\n",
              "      <td>126</td>\n",
              "      <td>248</td>\n",
              "      <td>255</td>\n",
              "      <td>0</td>\n",
              "      <td>0</td>\n",
              "      <td>194000</td>\n",
              "      <td>505</td>\n",
              "    </tr>\n",
              "    <tr>\n",
              "      <th>4</th>\n",
              "      <td>0.003915</td>\n",
              "      <td>8</td>\n",
              "      <td>28</td>\n",
              "      <td>126</td>\n",
              "      <td>50</td>\n",
              "      <td>16</td>\n",
              "      <td>50</td>\n",
              "      <td>32</td>\n",
              "      <td>66</td>\n",
              "      <td>78</td>\n",
              "      <td>228000</td>\n",
              "      <td>385</td>\n",
              "    </tr>\n",
              "    <tr>\n",
              "      <th>...</th>\n",
              "      <td>...</td>\n",
              "      <td>...</td>\n",
              "      <td>...</td>\n",
              "      <td>...</td>\n",
              "      <td>...</td>\n",
              "      <td>...</td>\n",
              "      <td>...</td>\n",
              "      <td>...</td>\n",
              "      <td>...</td>\n",
              "      <td>...</td>\n",
              "      <td>...</td>\n",
              "      <td>...</td>\n",
              "    </tr>\n",
              "    <tr>\n",
              "      <th>21847</th>\n",
              "      <td>31.682439</td>\n",
              "      <td>8</td>\n",
              "      <td>38</td>\n",
              "      <td>144</td>\n",
              "      <td>78</td>\n",
              "      <td>31</td>\n",
              "      <td>67</td>\n",
              "      <td>32</td>\n",
              "      <td>64</td>\n",
              "      <td>78</td>\n",
              "      <td>228000</td>\n",
              "      <td>385</td>\n",
              "    </tr>\n",
              "    <tr>\n",
              "      <th>21848</th>\n",
              "      <td>31.682453</td>\n",
              "      <td>7</td>\n",
              "      <td>0</td>\n",
              "      <td>0</td>\n",
              "      <td>0</td>\n",
              "      <td>0</td>\n",
              "      <td>0</td>\n",
              "      <td>0</td>\n",
              "      <td>0</td>\n",
              "      <td>0</td>\n",
              "      <td>224000</td>\n",
              "      <td>1297</td>\n",
              "    </tr>\n",
              "    <tr>\n",
              "      <th>21849</th>\n",
              "      <td>31.682459</td>\n",
              "      <td>3</td>\n",
              "      <td>76</td>\n",
              "      <td>0</td>\n",
              "      <td>0</td>\n",
              "      <td>0</td>\n",
              "      <td>0</td>\n",
              "      <td>0</td>\n",
              "      <td>0</td>\n",
              "      <td>0</td>\n",
              "      <td>144000</td>\n",
              "      <td>1501</td>\n",
              "    </tr>\n",
              "    <tr>\n",
              "      <th>21850</th>\n",
              "      <td>31.682463</td>\n",
              "      <td>1</td>\n",
              "      <td>112</td>\n",
              "      <td>0</td>\n",
              "      <td>0</td>\n",
              "      <td>0</td>\n",
              "      <td>0</td>\n",
              "      <td>0</td>\n",
              "      <td>0</td>\n",
              "      <td>0</td>\n",
              "      <td>108000</td>\n",
              "      <td>1628</td>\n",
              "    </tr>\n",
              "    <tr>\n",
              "      <th>21851</th>\n",
              "      <td>31.686426</td>\n",
              "      <td>8</td>\n",
              "      <td>143</td>\n",
              "      <td>255</td>\n",
              "      <td>1</td>\n",
              "      <td>0</td>\n",
              "      <td>0</td>\n",
              "      <td>0</td>\n",
              "      <td>0</td>\n",
              "      <td>0</td>\n",
              "      <td>238000</td>\n",
              "      <td>421</td>\n",
              "    </tr>\n",
              "  </tbody>\n",
              "</table>\n",
              "<p>21852 rows × 12 columns</p>\n",
              "</div>\n",
              "    <div class=\"colab-df-buttons\">\n",
              "\n",
              "  <div class=\"colab-df-container\">\n",
              "    <button class=\"colab-df-convert\" onclick=\"convertToInteractive('df-cc7154f8-7f8e-4df3-bf76-c300a8353956')\"\n",
              "            title=\"Convert this dataframe to an interactive table.\"\n",
              "            style=\"display:none;\">\n",
              "\n",
              "  <svg xmlns=\"http://www.w3.org/2000/svg\" height=\"24px\" viewBox=\"0 -960 960 960\">\n",
              "    <path d=\"M120-120v-720h720v720H120Zm60-500h600v-160H180v160Zm220 220h160v-160H400v160Zm0 220h160v-160H400v160ZM180-400h160v-160H180v160Zm440 0h160v-160H620v160ZM180-180h160v-160H180v160Zm440 0h160v-160H620v160Z\"/>\n",
              "  </svg>\n",
              "    </button>\n",
              "\n",
              "  <style>\n",
              "    .colab-df-container {\n",
              "      display:flex;\n",
              "      gap: 12px;\n",
              "    }\n",
              "\n",
              "    .colab-df-convert {\n",
              "      background-color: #E8F0FE;\n",
              "      border: none;\n",
              "      border-radius: 50%;\n",
              "      cursor: pointer;\n",
              "      display: none;\n",
              "      fill: #1967D2;\n",
              "      height: 32px;\n",
              "      padding: 0 0 0 0;\n",
              "      width: 32px;\n",
              "    }\n",
              "\n",
              "    .colab-df-convert:hover {\n",
              "      background-color: #E2EBFA;\n",
              "      box-shadow: 0px 1px 2px rgba(60, 64, 67, 0.3), 0px 1px 3px 1px rgba(60, 64, 67, 0.15);\n",
              "      fill: #174EA6;\n",
              "    }\n",
              "\n",
              "    .colab-df-buttons div {\n",
              "      margin-bottom: 4px;\n",
              "    }\n",
              "\n",
              "    [theme=dark] .colab-df-convert {\n",
              "      background-color: #3B4455;\n",
              "      fill: #D2E3FC;\n",
              "    }\n",
              "\n",
              "    [theme=dark] .colab-df-convert:hover {\n",
              "      background-color: #434B5C;\n",
              "      box-shadow: 0px 1px 3px 1px rgba(0, 0, 0, 0.15);\n",
              "      filter: drop-shadow(0px 1px 2px rgba(0, 0, 0, 0.3));\n",
              "      fill: #FFFFFF;\n",
              "    }\n",
              "  </style>\n",
              "\n",
              "    <script>\n",
              "      const buttonEl =\n",
              "        document.querySelector('#df-cc7154f8-7f8e-4df3-bf76-c300a8353956 button.colab-df-convert');\n",
              "      buttonEl.style.display =\n",
              "        google.colab.kernel.accessAllowed ? 'block' : 'none';\n",
              "\n",
              "      async function convertToInteractive(key) {\n",
              "        const element = document.querySelector('#df-cc7154f8-7f8e-4df3-bf76-c300a8353956');\n",
              "        const dataTable =\n",
              "          await google.colab.kernel.invokeFunction('convertToInteractive',\n",
              "                                                    [key], {});\n",
              "        if (!dataTable) return;\n",
              "\n",
              "        const docLinkHtml = 'Like what you see? Visit the ' +\n",
              "          '<a target=\"_blank\" href=https://colab.research.google.com/notebooks/data_table.ipynb>data table notebook</a>'\n",
              "          + ' to learn more about interactive tables.';\n",
              "        element.innerHTML = '';\n",
              "        dataTable['output_type'] = 'display_data';\n",
              "        await google.colab.output.renderOutput(dataTable, element);\n",
              "        const docLink = document.createElement('div');\n",
              "        docLink.innerHTML = docLinkHtml;\n",
              "        element.appendChild(docLink);\n",
              "      }\n",
              "    </script>\n",
              "  </div>\n",
              "\n",
              "\n",
              "<div id=\"df-d79dee14-4c40-42a4-a81e-45dbfc4d0ef2\">\n",
              "  <button class=\"colab-df-quickchart\" onclick=\"quickchart('df-d79dee14-4c40-42a4-a81e-45dbfc4d0ef2')\"\n",
              "            title=\"Suggest charts\"\n",
              "            style=\"display:none;\">\n",
              "\n",
              "<svg xmlns=\"http://www.w3.org/2000/svg\" height=\"24px\"viewBox=\"0 0 24 24\"\n",
              "     width=\"24px\">\n",
              "    <g>\n",
              "        <path d=\"M19 3H5c-1.1 0-2 .9-2 2v14c0 1.1.9 2 2 2h14c1.1 0 2-.9 2-2V5c0-1.1-.9-2-2-2zM9 17H7v-7h2v7zm4 0h-2V7h2v10zm4 0h-2v-4h2v4z\"/>\n",
              "    </g>\n",
              "</svg>\n",
              "  </button>\n",
              "\n",
              "<style>\n",
              "  .colab-df-quickchart {\n",
              "      --bg-color: #E8F0FE;\n",
              "      --fill-color: #1967D2;\n",
              "      --hover-bg-color: #E2EBFA;\n",
              "      --hover-fill-color: #174EA6;\n",
              "      --disabled-fill-color: #AAA;\n",
              "      --disabled-bg-color: #DDD;\n",
              "  }\n",
              "\n",
              "  [theme=dark] .colab-df-quickchart {\n",
              "      --bg-color: #3B4455;\n",
              "      --fill-color: #D2E3FC;\n",
              "      --hover-bg-color: #434B5C;\n",
              "      --hover-fill-color: #FFFFFF;\n",
              "      --disabled-bg-color: #3B4455;\n",
              "      --disabled-fill-color: #666;\n",
              "  }\n",
              "\n",
              "  .colab-df-quickchart {\n",
              "    background-color: var(--bg-color);\n",
              "    border: none;\n",
              "    border-radius: 50%;\n",
              "    cursor: pointer;\n",
              "    display: none;\n",
              "    fill: var(--fill-color);\n",
              "    height: 32px;\n",
              "    padding: 0;\n",
              "    width: 32px;\n",
              "  }\n",
              "\n",
              "  .colab-df-quickchart:hover {\n",
              "    background-color: var(--hover-bg-color);\n",
              "    box-shadow: 0 1px 2px rgba(60, 64, 67, 0.3), 0 1px 3px 1px rgba(60, 64, 67, 0.15);\n",
              "    fill: var(--button-hover-fill-color);\n",
              "  }\n",
              "\n",
              "  .colab-df-quickchart-complete:disabled,\n",
              "  .colab-df-quickchart-complete:disabled:hover {\n",
              "    background-color: var(--disabled-bg-color);\n",
              "    fill: var(--disabled-fill-color);\n",
              "    box-shadow: none;\n",
              "  }\n",
              "\n",
              "  .colab-df-spinner {\n",
              "    border: 2px solid var(--fill-color);\n",
              "    border-color: transparent;\n",
              "    border-bottom-color: var(--fill-color);\n",
              "    animation:\n",
              "      spin 1s steps(1) infinite;\n",
              "  }\n",
              "\n",
              "  @keyframes spin {\n",
              "    0% {\n",
              "      border-color: transparent;\n",
              "      border-bottom-color: var(--fill-color);\n",
              "      border-left-color: var(--fill-color);\n",
              "    }\n",
              "    20% {\n",
              "      border-color: transparent;\n",
              "      border-left-color: var(--fill-color);\n",
              "      border-top-color: var(--fill-color);\n",
              "    }\n",
              "    30% {\n",
              "      border-color: transparent;\n",
              "      border-left-color: var(--fill-color);\n",
              "      border-top-color: var(--fill-color);\n",
              "      border-right-color: var(--fill-color);\n",
              "    }\n",
              "    40% {\n",
              "      border-color: transparent;\n",
              "      border-right-color: var(--fill-color);\n",
              "      border-top-color: var(--fill-color);\n",
              "    }\n",
              "    60% {\n",
              "      border-color: transparent;\n",
              "      border-right-color: var(--fill-color);\n",
              "    }\n",
              "    80% {\n",
              "      border-color: transparent;\n",
              "      border-right-color: var(--fill-color);\n",
              "      border-bottom-color: var(--fill-color);\n",
              "    }\n",
              "    90% {\n",
              "      border-color: transparent;\n",
              "      border-bottom-color: var(--fill-color);\n",
              "    }\n",
              "  }\n",
              "</style>\n",
              "\n",
              "  <script>\n",
              "    async function quickchart(key) {\n",
              "      const quickchartButtonEl =\n",
              "        document.querySelector('#' + key + ' button');\n",
              "      quickchartButtonEl.disabled = true;  // To prevent multiple clicks.\n",
              "      quickchartButtonEl.classList.add('colab-df-spinner');\n",
              "      try {\n",
              "        const charts = await google.colab.kernel.invokeFunction(\n",
              "            'suggestCharts', [key], {});\n",
              "      } catch (error) {\n",
              "        console.error('Error during call to suggestCharts:', error);\n",
              "      }\n",
              "      quickchartButtonEl.classList.remove('colab-df-spinner');\n",
              "      quickchartButtonEl.classList.add('colab-df-quickchart-complete');\n",
              "    }\n",
              "    (() => {\n",
              "      let quickchartButtonEl =\n",
              "        document.querySelector('#df-d79dee14-4c40-42a4-a81e-45dbfc4d0ef2 button');\n",
              "      quickchartButtonEl.style.display =\n",
              "        google.colab.kernel.accessAllowed ? 'block' : 'none';\n",
              "    })();\n",
              "  </script>\n",
              "</div>\n",
              "    </div>\n",
              "  </div>\n"
            ],
            "application/vnd.google.colaboratory.intrinsic+json": {
              "type": "dataframe",
              "variable_name": "data",
              "summary": "{\n  \"name\": \"data\",\n  \"rows\": 21852,\n  \"fields\": [\n    {\n      \"column\": \"Time\",\n      \"properties\": {\n        \"dtype\": \"number\",\n        \"std\": 9.151421911166118,\n        \"min\": 0.000766,\n        \"max\": 31.686426,\n        \"num_unique_values\": 21852,\n        \"samples\": [\n          6.509988,\n          25.642405,\n          26.291242\n        ],\n        \"semantic_type\": \"\",\n        \"description\": \"\"\n      }\n    },\n    {\n      \"column\": \"ByteNo\",\n      \"properties\": {\n        \"dtype\": \"number\",\n        \"std\": 1,\n        \"min\": 1,\n        \"max\": 8,\n        \"num_unique_values\": 6,\n        \"samples\": [\n          8,\n          5,\n          1\n        ],\n        \"semantic_type\": \"\",\n        \"description\": \"\"\n      }\n    },\n    {\n      \"column\": \"b1\",\n      \"properties\": {\n        \"dtype\": \"number\",\n        \"std\": 76,\n        \"min\": 0,\n        \"max\": 255,\n        \"num_unique_values\": 256,\n        \"samples\": [\n          150,\n          112,\n          180\n        ],\n        \"semantic_type\": \"\",\n        \"description\": \"\"\n      }\n    },\n    {\n      \"column\": \"b2\",\n      \"properties\": {\n        \"dtype\": \"number\",\n        \"std\": 98,\n        \"min\": 0,\n        \"max\": 255,\n        \"num_unique_values\": 256,\n        \"samples\": [\n          173,\n          47,\n          22\n        ],\n        \"semantic_type\": \"\",\n        \"description\": \"\"\n      }\n    },\n    {\n      \"column\": \"b3\",\n      \"properties\": {\n        \"dtype\": \"number\",\n        \"std\": 56,\n        \"min\": 0,\n        \"max\": 254,\n        \"num_unique_values\": 255,\n        \"samples\": [\n          200,\n          36,\n          178\n        ],\n        \"semantic_type\": \"\",\n        \"description\": \"\"\n      }\n    },\n    {\n      \"column\": \"b4\",\n      \"properties\": {\n        \"dtype\": \"number\",\n        \"std\": 74,\n        \"min\": 0,\n        \"max\": 255,\n        \"num_unique_values\": 256,\n        \"samples\": [\n          207,\n          70,\n          22\n        ],\n        \"semantic_type\": \"\",\n        \"description\": \"\"\n      }\n    },\n    {\n      \"column\": \"b5\",\n      \"properties\": {\n        \"dtype\": \"number\",\n        \"std\": 90,\n        \"min\": 0,\n        \"max\": 255,\n        \"num_unique_values\": 256,\n        \"samples\": [\n          168,\n          129,\n          193\n        ],\n        \"semantic_type\": \"\",\n        \"description\": \"\"\n      }\n    },\n    {\n      \"column\": \"b6\",\n      \"properties\": {\n        \"dtype\": \"number\",\n        \"std\": 90,\n        \"min\": 0,\n        \"max\": 255,\n        \"num_unique_values\": 252,\n        \"samples\": [\n          205,\n          122,\n          99\n        ],\n        \"semantic_type\": \"\",\n        \"description\": \"\"\n      }\n    },\n    {\n      \"column\": \"b7\",\n      \"properties\": {\n        \"dtype\": \"number\",\n        \"std\": 71,\n        \"min\": 0,\n        \"max\": 254,\n        \"num_unique_values\": 249,\n        \"samples\": [\n          192,\n          135,\n          16\n        ],\n        \"semantic_type\": \"\",\n        \"description\": \"\"\n      }\n    },\n    {\n      \"column\": \"b8\",\n      \"properties\": {\n        \"dtype\": \"number\",\n        \"std\": 43,\n        \"min\": 0,\n        \"max\": 254,\n        \"num_unique_values\": 253,\n        \"samples\": [\n          25,\n          191,\n          163\n        ],\n        \"semantic_type\": \"\",\n        \"description\": \"\"\n      }\n    },\n    {\n      \"column\": \"Length\",\n      \"properties\": {\n        \"dtype\": \"number\",\n        \"std\": 29023,\n        \"min\": 106000,\n        \"max\": 248000,\n        \"num_unique_values\": 32,\n        \"samples\": [\n          178000,\n          108000,\n          230000\n        ],\n        \"semantic_type\": \"\",\n        \"description\": \"\"\n      }\n    },\n    {\n      \"column\": \"ID\",\n      \"properties\": {\n        \"dtype\": \"number\",\n        \"std\": 259,\n        \"min\": 353,\n        \"max\": 1628,\n        \"num_unique_values\": 12,\n        \"samples\": [\n          1501,\n          1297,\n          644\n        ],\n        \"semantic_type\": \"\",\n        \"description\": \"\"\n      }\n    }\n  ]\n}"
            }
          },
          "metadata": {},
          "execution_count": 15
        }
      ]
    },
    {
      "cell_type": "code",
      "source": [
        "data=np.array(data)\n",
        "labels=np.array(labels)\n"
      ],
      "metadata": {
        "id": "vfJjb92UeJLL"
      },
      "execution_count": 16,
      "outputs": []
    },
    {
      "cell_type": "markdown",
      "source": [
        "##Classification"
      ],
      "metadata": {
        "id": "_WK2xR73pNNO"
      }
    },
    {
      "cell_type": "code",
      "source": [
        "import sklearn\n",
        "from sklearn.model_selection import train_test_split\n",
        "from sklearn.neighbors import KNeighborsClassifier\n",
        "from sklearn import metrics\n",
        "import matplotlib.pyplot as plt\n",
        "from matplotlib import colormaps"
      ],
      "metadata": {
        "id": "AgnYFkCIpNb5"
      },
      "execution_count": 17,
      "outputs": []
    },
    {
      "cell_type": "code",
      "source": [
        "X_train, X_test, y_train, y_test = train_test_split(data, labels, test_size=0.3, random_state=0)"
      ],
      "metadata": {
        "id": "5-EKuq-hpo8A"
      },
      "execution_count": 18,
      "outputs": []
    },
    {
      "cell_type": "code",
      "source": [
        "knn = KNeighborsClassifier(n_neighbors=3)\n",
        "knn.fit(X_train, y_train)\n",
        "y_pred = knn.predict(X_test)\n",
        "print(\"kNN model accuracy:\", metrics.accuracy_score(y_test, y_pred))"
      ],
      "metadata": {
        "id": "w2DnEpF-p48b",
        "colab": {
          "base_uri": "https://localhost:8080/"
        },
        "outputId": "25bb155d-b35c-4d32-d597-5f00282177f8"
      },
      "execution_count": 19,
      "outputs": [
        {
          "output_type": "stream",
          "name": "stdout",
          "text": [
            "kNN model accuracy: 0.9731543624161074\n"
          ]
        }
      ]
    },
    {
      "cell_type": "code",
      "source": [
        "confusion_matrix = metrics.confusion_matrix(y_test, y_pred)\n",
        "true_negative=confusion_matrix[0][0]\n",
        "false_positive=confusion_matrix[0][1]\n",
        "false_negative=confusion_matrix[1][0]\n",
        "true_positive=confusion_matrix[1][1]"
      ],
      "metadata": {
        "id": "Om9ImKtB5G77"
      },
      "execution_count": 20,
      "outputs": []
    },
    {
      "cell_type": "code",
      "source": [
        "cmap=plt.get_cmap('RdPu')\n",
        "cm_display = metrics.ConfusionMatrixDisplay(confusion_matrix = confusion_matrix, display_labels = [False, True])\n",
        "cm_display.plot(cmap=cmap)\n",
        "plt.show()"
      ],
      "metadata": {
        "id": "j67TS3Iz_BmP",
        "colab": {
          "base_uri": "https://localhost:8080/",
          "height": 449
        },
        "outputId": "a9df4c8e-9380-4569-ebfe-7fa597d73c55"
      },
      "execution_count": 21,
      "outputs": [
        {
          "output_type": "display_data",
          "data": {
            "text/plain": [
              "<Figure size 640x480 with 2 Axes>"
            ],
            "image/png": "[encoded data removed]"
          },
          "metadata": {}
        }
      ]
    },
    {
      "cell_type": "code",
      "source": [
        "TPR=true_positive/(true_positive+false_negative)   #true positive rate\n",
        "TNR=true_negative/(true_negative+false_positive)   #true negative rate\n",
        "PPV=true_positive/(true_positive+false_positive)   #positive predictive value / precision\n",
        "NPV=true_negative/(true_negative+false_negative)   #negative predictive value\n",
        "FNR=false_negative/(false_negative+true_positive)  #false negative rate\n",
        "FPR=false_positive/(false_positive+true_negative)  #false positive rate\n",
        "FDR=false_positive/(false_positive+true_positive)  #false discovery rate\n",
        "FOR=false_negative/(false_negative+true_negative)  #false omission rate\n",
        "LRP=TPR/FPR #positive likelihood ratio\n",
        "LRM=FNR/TNR #negative likelihood ratio\n",
        "PT=0\n",
        "TS=true_positive/(true_positive+false_negative+false_positive) #threat score/critical success index\n",
        "ACC=(true_positive+true_negative)/(true_positive+true_negative+false_positive+false_negative) #accuracy"
      ],
      "metadata": {
        "id": "JXULpB910EqM"
      },
      "execution_count": 22,
      "outputs": []
    },
    {
      "cell_type": "code",
      "source": [
        "print('Accuracy:'+ str(ACC))"
      ],
      "metadata": {
        "id": "OedpI11O2Y00",
        "colab": {
          "base_uri": "https://localhost:8080/"
        },
        "outputId": "c70ee25f-5714-4a92-fd54-c1b0ebc7b19e"
      },
      "execution_count": 23,
      "outputs": [
        {
          "output_type": "stream",
          "name": "stdout",
          "text": [
            "Accuracy:0.9731543624161074\n"
          ]
        }
      ]
    }
  ]
}